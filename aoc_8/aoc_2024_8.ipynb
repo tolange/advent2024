{
 "cells": [
  {
   "cell_type": "code",
   "execution_count": 1,
   "id": "89c8473d-440e-4e6c-834d-38c02a2d4742",
   "metadata": {},
   "outputs": [],
   "source": [
    "import numpy as np\n",
    "import itertools\n",
    "import math"
   ]
  },
  {
   "cell_type": "code",
   "execution_count": 2,
   "id": "d32e1a7a-719c-4210-89ed-7bd091f43cf7",
   "metadata": {},
   "outputs": [],
   "source": [
    "testinput=[\n",
    "\"............\",\n",
    "\"........0...\",\n",
    "\".....0......\",\n",
    "\".......0....\",\n",
    "\"....0.......\",\n",
    "\"......A.....\",\n",
    "\"............\",\n",
    "\"............\",\n",
    "\"........A...\",\n",
    "\".........A..\",\n",
    "\"............\",\n",
    "\"............\"\n",
    "    ]"
   ]
  },
  {
   "cell_type": "code",
   "execution_count": 3,
   "id": "b2a6370c-d0f1-4030-a401-4b45f79633f7",
   "metadata": {},
   "outputs": [],
   "source": [
    "# make a matrix out of it to work easier with indecies\n",
    "def convertinput(ipt):\n",
    "    ipt_conv = []\n",
    "    for l in ipt:\n",
    "        t = [c for c in l]\n",
    "        ipt_conv.append(t)\n",
    "    return np.array(ipt_conv)"
   ]
  },
  {
   "cell_type": "code",
   "execution_count": 4,
   "id": "438174e9-0245-4cda-a8f7-214440957e9d",
   "metadata": {},
   "outputs": [],
   "source": [
    "testinput_cov=convertinput(testinput)"
   ]
  },
  {
   "cell_type": "code",
   "execution_count": 5,
   "id": "ae32e6b6-52e6-4a84-a3d3-c8b7b61e3af0",
   "metadata": {},
   "outputs": [],
   "source": [
    "def findPairs(ipt):\n",
    "    pairs=[]\n",
    "    # find unique frequencies\n",
    "    freq = list(np.unique(ipt[ipt!=\".\"]))\n",
    "    for f in freq:\n",
    "        locs = np.stack(np.where(ipt==f))\n",
    "        locations = []\n",
    "        for i in range(locs.shape[1]): locations.append(list(locs[:,i]))\n",
    "        for i in range(len(locations)):\n",
    "            for j in range(i+1, len(locations)):\n",
    "                pairs.append([locations[i],locations[j]])\n",
    "    return pairs\n",
    "        "
   ]
  },
  {
   "cell_type": "code",
   "execution_count": 6,
   "id": "740fc9fa-5356-4507-94b7-2d1f0e0c64ff",
   "metadata": {},
   "outputs": [],
   "source": [
    "def inmap(p, m):\n",
    "    return p[0]>=0 and p[1]>=0 and p[0]<m.shape[0] and p[1]<m.shape[1]\n",
    "    \n",
    "def findANinMap(p, m, update=False):\n",
    "    count = 0\n",
    "    AN = []\n",
    "    a,b=p\n",
    "    aby=a[0]-b[0]\n",
    "    abx=a[1]-b[1]\n",
    "    a1=[a[0]+aby, a[1]+abx]\n",
    "    a2=[a[0]-aby, a[1]-abx]\n",
    "    b1=[b[0]+aby, b[1]+abx]\n",
    "    b2=[b[0]-aby, b[1]-abx]\n",
    "    for anC in [a1, a2, b1, b2]:\n",
    "        if anC != a and anC!= b and inmap(anC, m):\n",
    "            count+=1\n",
    "            AN.append(anC)\n",
    "    if not update: return count, AN\n",
    "    dirx=abx#/math.sqrt(abx*abx+aby*aby)\n",
    "    diry=aby#/math.sqrt(abx*abx+aby*aby)\n",
    "    depth = int(max(m.shape[0]/abs(dirx), m.shape[1]/abs(diry)))\n",
    "    for d in range(depth):\n",
    "        dx = d*dirx\n",
    "        dy = d*diry\n",
    "        if dx % int(dx) != 0: continue\n",
    "        if dy % int(dy) != 0: continue\n",
    "        a1=[a[0]+dy, a[1]+dx]\n",
    "        a2=[a[0]-dy, a[1]-dx]\n",
    "        b1=[b[0]+dy, b[1]+dx]\n",
    "        b2=[b[0]-dy, b[1]-dx]\n",
    "        for anC in [a1, a2, b1, b2]:\n",
    "            if inmap(anC, m):\n",
    "                count+=1\n",
    "                AN.append(anC)\n",
    "    return count, AN\n",
    "    "
   ]
  },
  {
   "cell_type": "code",
   "execution_count": 7,
   "id": "4c999efd-433b-45b0-8d57-c05a0480f702",
   "metadata": {},
   "outputs": [],
   "source": [
    "def codePair(p):\n",
    "    return \"y\"+str(p[0])+\"_x\"+str(p[1])\n",
    "def findAllANs(m, update=False):\n",
    "    count = 0\n",
    "    ANs = []\n",
    "    for p in findPairs(m):\n",
    "        count_t, ANs_t = findANinMap(p, m, update)\n",
    "        for i in range(len(ANs_t)):\n",
    "            ANs.append(ANs_t[i])\n",
    "        count+=count_t\n",
    "    m2 = m.copy()\n",
    "    for an in ANs:\n",
    "        m2[tuple(an)]=\"#\"\n",
    "    print(m2)\n",
    "    ANS_text = [codePair(p) for p in ANs]\n",
    "    return len(set(ANS_text))\n",
    "    "
   ]
  },
  {
   "cell_type": "code",
   "execution_count": 8,
   "id": "250a879e-dd8f-4813-941c-38fdca04d195",
   "metadata": {},
   "outputs": [
    {
     "name": "stdout",
     "output_type": "stream",
     "text": [
      "[['.' '.' '.' '.' '.' '.' '#' '.' '.' '.' '.' '#']\n",
      " ['.' '.' '.' '#' '.' '.' '.' '.' '0' '.' '.' '.']\n",
      " ['.' '.' '.' '.' '#' '0' '.' '.' '.' '.' '#' '.']\n",
      " ['.' '.' '#' '.' '.' '.' '.' '0' '.' '.' '.' '.']\n",
      " ['.' '.' '.' '.' '0' '.' '.' '.' '.' '#' '.' '.']\n",
      " ['.' '#' '.' '.' '.' '.' '#' '.' '.' '.' '.' '.']\n",
      " ['.' '.' '.' '#' '.' '.' '.' '.' '.' '.' '.' '.']\n",
      " ['#' '.' '.' '.' '.' '.' '.' '#' '.' '.' '.' '.']\n",
      " ['.' '.' '.' '.' '.' '.' '.' '.' 'A' '.' '.' '.']\n",
      " ['.' '.' '.' '.' '.' '.' '.' '.' '.' 'A' '.' '.']\n",
      " ['.' '.' '.' '.' '.' '.' '.' '.' '.' '.' '#' '.']\n",
      " ['.' '.' '.' '.' '.' '.' '.' '.' '.' '.' '#' '.']]\n"
     ]
    },
    {
     "data": {
      "text/plain": [
       "14"
      ]
     },
     "execution_count": 8,
     "metadata": {},
     "output_type": "execute_result"
    }
   ],
   "source": [
    "findAllANs(testinput_cov)"
   ]
  },
  {
   "cell_type": "code",
   "execution_count": 9,
   "id": "4b0354fd-bf80-4ecc-af59-dccff98cbaae",
   "metadata": {},
   "outputs": [],
   "source": [
    "f= open('/Users/tolange/Documents/aoc2024/aoc_8/input.txt')\n",
    "ipt = convertinput([l.strip(\"\\n\") for l in f])"
   ]
  },
  {
   "cell_type": "code",
   "execution_count": 10,
   "id": "c57c6573-8792-487c-bbe3-eb5abaf9abbf",
   "metadata": {},
   "outputs": [
    {
     "name": "stdout",
     "output_type": "stream",
     "text": [
      "[['#' '#' '.' '.' '.' '.' '#' '.' '.' '.' '.' '#']\n",
      " ['.' '#' '.' '#' '.' '.' '.' '.' '#' '.' '.' '.']\n",
      " ['.' '.' '#' '.' '#' '#' '.' '.' '.' '.' '#' '.']\n",
      " ['.' '.' '#' '#' '.' '.' '.' '#' '.' '.' '.' '.']\n",
      " ['.' '.' '.' '.' '#' '.' '.' '.' '.' '#' '.' '.']\n",
      " ['.' '#' '.' '.' '.' '#' '#' '.' '.' '.' '.' '#']\n",
      " ['.' '.' '.' '#' '.' '.' '#' '.' '.' '.' '.' '.']\n",
      " ['#' '.' '.' '.' '.' '#' '.' '#' '.' '.' '.' '.']\n",
      " ['.' '.' '#' '.' '.' '.' '.' '.' '#' '.' '.' '.']\n",
      " ['.' '.' '.' '.' '#' '.' '.' '.' '.' '#' '.' '.']\n",
      " ['.' '#' '.' '.' '.' '.' '.' '.' '.' '.' '#' '.']\n",
      " ['.' '.' '.' '#' '.' '.' '.' '.' '.' '.' '#' '#']]\n"
     ]
    },
    {
     "name": "stderr",
     "output_type": "stream",
     "text": [
      "/var/folders/37/dtwbc3bn3v71fstqsyxzdx040000gn/T/ipykernel_8486/785430967.py:25: RuntimeWarning: divide by zero encountered in scalar remainder\n",
      "  if dx % int(dx) != 0: continue\n",
      "/var/folders/37/dtwbc3bn3v71fstqsyxzdx040000gn/T/ipykernel_8486/785430967.py:26: RuntimeWarning: divide by zero encountered in scalar remainder\n",
      "  if dy % int(dy) != 0: continue\n"
     ]
    },
    {
     "data": {
      "text/plain": [
       "34"
      ]
     },
     "execution_count": 10,
     "metadata": {},
     "output_type": "execute_result"
    }
   ],
   "source": [
    "findAllANs(testinput_cov, update=True)"
   ]
  },
  {
   "cell_type": "code",
   "execution_count": 11,
   "id": "057407b1-63b1-43f6-a5e3-1d38637db88c",
   "metadata": {},
   "outputs": [
    {
     "name": "stdout",
     "output_type": "stream",
     "text": [
      "[['.' '.' '.' ... '.' '.' '.']\n",
      " ['.' '.' '.' ... '.' '.' '.']\n",
      " ['.' '#' '.' ... '.' '.' '.']\n",
      " ...\n",
      " ['.' '.' '.' ... '.' '.' 'N']\n",
      " ['.' '.' '.' ... '.' '.' '.']\n",
      " ['l' '.' '.' ... '.' '.' '.']]\n"
     ]
    },
    {
     "data": {
      "text/plain": [
       "311"
      ]
     },
     "execution_count": 11,
     "metadata": {},
     "output_type": "execute_result"
    }
   ],
   "source": [
    "findAllANs(ipt)"
   ]
  },
  {
   "cell_type": "code",
   "execution_count": 12,
   "id": "54087b7a-814e-4b91-915a-915e57efa545",
   "metadata": {},
   "outputs": [
    {
     "name": "stdout",
     "output_type": "stream",
     "text": [
      "[['.' '.' '#' ... '#' '.' '.']\n",
      " ['.' '.' '.' ... '.' '.' '.']\n",
      " ['#' '#' '#' ... '.' '.' '.']\n",
      " ...\n",
      " ['.' '#' '.' ... '.' '#' '#']\n",
      " ['.' '#' '.' ... '.' '.' '.']\n",
      " ['#' '.' '#' ... '.' '.' '.']]\n"
     ]
    },
    {
     "name": "stderr",
     "output_type": "stream",
     "text": [
      "/var/folders/37/dtwbc3bn3v71fstqsyxzdx040000gn/T/ipykernel_8486/785430967.py:25: RuntimeWarning: divide by zero encountered in scalar remainder\n",
      "  if dx % int(dx) != 0: continue\n",
      "/var/folders/37/dtwbc3bn3v71fstqsyxzdx040000gn/T/ipykernel_8486/785430967.py:26: RuntimeWarning: divide by zero encountered in scalar remainder\n",
      "  if dy % int(dy) != 0: continue\n"
     ]
    },
    {
     "data": {
      "text/plain": [
       "1115"
      ]
     },
     "execution_count": 12,
     "metadata": {},
     "output_type": "execute_result"
    }
   ],
   "source": [
    "findAllANs(ipt, update=True)"
   ]
  },
  {
   "cell_type": "code",
   "execution_count": null,
   "id": "4ef2f8ec-4310-4557-8de2-11ed8470b7f7",
   "metadata": {},
   "outputs": [],
   "source": []
  }
 ],
 "metadata": {
  "kernelspec": {
   "display_name": "Python 3 (ipykernel)",
   "language": "python",
   "name": "python3"
  },
  "language_info": {
   "codemirror_mode": {
    "name": "ipython",
    "version": 3
   },
   "file_extension": ".py",
   "mimetype": "text/x-python",
   "name": "python",
   "nbconvert_exporter": "python",
   "pygments_lexer": "ipython3",
   "version": "3.12.6"
  }
 },
 "nbformat": 4,
 "nbformat_minor": 5
}
