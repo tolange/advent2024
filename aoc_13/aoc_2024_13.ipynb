{
 "cells": [
  {
   "cell_type": "code",
   "execution_count": 171,
   "id": "5a8b0c88-38dc-4c6f-99c7-e797f550e244",
   "metadata": {},
   "outputs": [],
   "source": [
    "import numpy as np"
   ]
  },
  {
   "cell_type": "code",
   "execution_count": 172,
   "id": "cf70df7e-7262-4e0b-b51a-75235d93ed7a",
   "metadata": {},
   "outputs": [],
   "source": [
    "testinput=[\n",
    "\"Button A: X+94, Y+34\",\n",
    "\"Button B: X+22, Y+67\",\n",
    "\"Prize: X=8400, Y=5400\",\n",
    "\"\",\n",
    "\"Button A: X+26, Y+66\",\n",
    "\"Button B: X+67, Y+21\",\n",
    "\"Prize: X=12748, Y=12176\",\n",
    "\"\",\n",
    "\"Button A: X+17, Y+86\",\n",
    "\"Button B: X+84, Y+37\",\n",
    "\"Prize: X=7870, Y=6450\",\n",
    "\"\",\n",
    "\"Button A: X+69, Y+23\",\n",
    "\"Button B: X+27, Y+71\",\n",
    "\"Prize: X=18641, Y=10279\",\n",
    "]"
   ]
  },
  {
   "cell_type": "code",
   "execution_count": 173,
   "id": "05332b8a-b1c3-4bcf-9c70-a311b4f8f033",
   "metadata": {},
   "outputs": [],
   "source": [
    "def convertinput(ipt):\n",
    "    out = []\n",
    "    A = None\n",
    "    B = None\n",
    "    C = None\n",
    "    for l in ipt:\n",
    "        if \"A\" in l:\n",
    "            A = [ int(l[l.find(\"X\")+2:l.find(\",\")]), int(l[l.find(\"Y\")+2:]) ]\n",
    "        if \"B\" in l:\n",
    "            B = [ int(l[l.find(\"X\")+2:l.find(\",\")]), int(l[l.find(\"Y\")+2:]) ]\n",
    "        if \"Prize\" in l:\n",
    "            C = [ int(l[l.find(\"X\")+2:l.find(\",\")]), int(l[l.find(\"Y\")+2:]) ]\n",
    "            out.append([A, B, C])\n",
    "    return out"
   ]
  },
  {
   "cell_type": "code",
   "execution_count": 174,
   "id": "7726e852-3a42-4dd3-acba-5add3218f12e",
   "metadata": {},
   "outputs": [],
   "source": [
    "def playGame(i, costA, costB):\n",
    "    A, B, Win = i \n",
    "    # When too far\n",
    "    maxA = int(max(Win[0]/A[0], Win[1]/A[1]))+1\n",
    "    maxB = int(max(Win[0]/B[0], Win[1]/B[1]))+1\n",
    "    if costA > costB:\n",
    "        #try to go as many with B first\n",
    "        for i in range(maxB+1):\n",
    "            goB = maxB-i\n",
    "            if B[0]*goB>Win[0] or B[1]*goB>Win[1]: continue\n",
    "            for goA in range(maxA+1):\n",
    "                X = B[0]*goB+A[0]*goA\n",
    "                Y = B[1]*goB+A[1]*goA\n",
    "                if X>Win[0] or Y>Win[1]: continue\n",
    "                if X == Win[0]:\n",
    "                    if Y == Win[1]: return True, goA, goB, goA*costA+goB*costB\n",
    "                    #else: return False, -1, -1, -1\n",
    "    else:\n",
    "        #try to go as many with B first\n",
    "        for i in range(maxA+1):\n",
    "            goA = maxA-i\n",
    "            if A[0]*goA>Win[0] or A[1]*goA>Win[1]: continue\n",
    "            for goB in range(maxB+1):\n",
    "                X = B[0]*goB+A[0]*goA\n",
    "                Y = B[1]*goB+A[1]*goA\n",
    "                if X>Win[0] or Y>Win[1]: continue\n",
    "                if X == Win[0]:\n",
    "                    if Y == Win[1]: return True, goA, goB, goA*costA+goB*costB\n",
    "                    #else: return False, -1, -1, -1\n",
    "    return False, -1, -1, -1"
   ]
  },
  {
   "cell_type": "code",
   "execution_count": 175,
   "id": "e8996814-ec5b-438d-b56f-573c529226eb",
   "metadata": {},
   "outputs": [],
   "source": [
    "tipt = convertinput(testinput)"
   ]
  },
  {
   "cell_type": "code",
   "execution_count": 176,
   "id": "7dee16a2-62bb-4167-b860-9221c20a657b",
   "metadata": {},
   "outputs": [],
   "source": [
    "ipt = convertinput([l.strip(\"\\n\") for l in open(\"input.txt\")])"
   ]
  },
  {
   "cell_type": "code",
   "execution_count": 177,
   "id": "60442dc1-2b63-462b-bd7b-4a2772b054bd",
   "metadata": {},
   "outputs": [
    {
     "name": "stdout",
     "output_type": "stream",
     "text": [
      "(True, 80, 40, 280)\n",
      "(False, -1, -1, -1)\n",
      "(True, 38, 86, 200)\n",
      "(False, -1, -1, -1)\n",
      "480\n"
     ]
    }
   ],
   "source": [
    "cost = 0\n",
    "for i in tipt:\n",
    "    out = playGame(i, 3, 1)\n",
    "    print(out)\n",
    "    if out[0]: cost+=out[3]\n",
    "print(cost)"
   ]
  },
  {
   "cell_type": "code",
   "execution_count": 178,
   "id": "6895bd3c-55b5-4427-943a-0a0c1d68cd95",
   "metadata": {},
   "outputs": [
    {
     "name": "stdout",
     "output_type": "stream",
     "text": [
      "29522\n"
     ]
    }
   ],
   "source": [
    "cost = 0\n",
    "for i in ipt:\n",
    "    out = playGame(i, 3, 1)\n",
    "    #print(out)\n",
    "    if out[0]: cost+=out[3]\n",
    "print(cost)"
   ]
  },
  {
   "cell_type": "code",
   "execution_count": 183,
   "id": "2902e2e1-f70e-401a-8b7a-a2c0e8267760",
   "metadata": {},
   "outputs": [],
   "source": [
    "def solveNumpy(i, costA=3, costB=1):\n",
    "    A, B, W = i\n",
    "    a = np.array([[A[0], B[0]], [A[1], B[1]]])\n",
    "    b = np.array([W[0], W[1]])\n",
    "    x = np.linalg.solve(a, b)\n",
    "    \n",
    "    NA = round(x[0], 4)\n",
    "    NB = round(x[1], 4)\n",
    "    if NA % 1 == 0 and NB % 1 == 0:\n",
    "        NA=int(NA)\n",
    "        NB=int(NB)\n",
    "        return NA, NB, NA*costA + NB*costB\n",
    "    return x[0], x[1], -1\n",
    "    \n",
    "def playGamesNumpy(ipt, corr = 0, prt=True):\n",
    "    cost = 0\n",
    "    for i in ipt:\n",
    "        A, B, W = i\n",
    "        i2 = [A, B, [W[0]+corr, W[1]+corr] ]\n",
    "        na, nb, c = solveNumpy(i2)\n",
    "        if c>0: cost+=c\n",
    "        if prt: print(na,nb, c)\n",
    "    print(cost)"
   ]
  },
  {
   "cell_type": "code",
   "execution_count": 184,
   "id": "efbe5a90-be8a-40dd-8e86-a623ff902680",
   "metadata": {},
   "outputs": [
    {
     "name": "stdout",
     "output_type": "stream",
     "text": [
      "80 40 280\n",
      "141.40454076367388 135.3952528379773 -1\n",
      "38 86 200\n",
      "244.5016362786349 65.56989247311829 -1\n",
      "480\n"
     ]
    }
   ],
   "source": [
    "playGamesNumpy(tipt)"
   ]
  },
  {
   "cell_type": "code",
   "execution_count": 185,
   "id": "875602c6-3ba4-419a-85a5-74ea67664646",
   "metadata": {},
   "outputs": [
    {
     "name": "stdout",
     "output_type": "stream",
     "text": [
      "81081081161.08107 108108108148.10812 -1\n",
      "118679050709 103199174542 459236326669\n",
      "71266110727.91661 104624715779.70735 -1\n",
      "102851800151 107526881786 416082282239\n",
      "875318608908\n"
     ]
    }
   ],
   "source": [
    "playGamesNumpy(tipt, 10000000000000)"
   ]
  },
  {
   "cell_type": "code",
   "execution_count": 204,
   "id": "9088803c-27b7-4e26-8dcf-e25d90e79d48",
   "metadata": {},
   "outputs": [
    {
     "name": "stdout",
     "output_type": "stream",
     "text": [
      "101214869433312\n"
     ]
    }
   ],
   "source": [
    "playGamesNumpy(ipt, 10000000000000, prt=False)"
   ]
  },
  {
   "cell_type": "code",
   "execution_count": 188,
   "id": "f8208f29-ed55-441d-b6f4-98c128393423",
   "metadata": {},
   "outputs": [
    {
     "data": {
      "text/plain": [
       "array([80., 40.])"
      ]
     },
     "execution_count": 188,
     "metadata": {},
     "output_type": "execute_result"
    }
   ],
   "source": [
    "A, B, W = tipt[0]\n",
    "a = np.array([[A[0], B[0]], [A[1], B[1]]])\n",
    "b = np.array([W[0], W[1]])\n",
    "x = np.linalg.solve(a, b)\n",
    "x"
   ]
  },
  {
   "cell_type": "code",
   "execution_count": 208,
   "id": "4d7b16b4-eb2a-43ab-a3dd-6a19e8f69cc0",
   "metadata": {},
   "outputs": [],
   "source": [
    "def NAfromNB(i, NB):\n",
    "    A, B, W = i\n",
    "    return W[0]/A[0] - NB*(B[0]/A[0])\n",
    "\n",
    "def NBfromW(i):\n",
    "    A, B, W = i\n",
    "    return (W[1] - W[0]*A[1]/A[0]) / ( B[1]-B[0]*A[1]/A[0] )\n",
    "\n",
    "def solveSmart(i, costA=3, costB=1):\n",
    "    A, B, W = i\n",
    "    #rounding ugly but needed here even more, to much precision loss...\n",
    "    NB = round(NBfromW(i), 2)\n",
    "    NA = round(NAfromNB(i, NB), 2)\n",
    "    if NA % 1 == 0 and NB % 1 == 0:\n",
    "        NA=int(NA)\n",
    "        NB=int(NB)\n",
    "        return NA, NB, NA*costA + NB*costB\n",
    "    return NA, NB, -1\n",
    "    \n",
    "def playGamesSmart(ipt, corr = 0, prt=True):\n",
    "    cost = 0\n",
    "    for i in ipt:\n",
    "        A, B, W = i\n",
    "        i2 = [A, B, [W[0]+corr, W[1]+corr] ]\n",
    "        na, nb, c = solveSmart(i2)\n",
    "        if c>0: cost+=c\n",
    "        if prt: print(na,nb, c)\n",
    "    print(cost)"
   ]
  },
  {
   "cell_type": "code",
   "execution_count": 209,
   "id": "850b6c1f-cd80-4594-88ba-e012db9c550b",
   "metadata": {},
   "outputs": [
    {
     "name": "stdout",
     "output_type": "stream",
     "text": [
      "101214869433312\n"
     ]
    }
   ],
   "source": [
    "playGamesSmart(ipt, 10000000000000, prt=False)"
   ]
  },
  {
   "cell_type": "code",
   "execution_count": null,
   "id": "50085f7d-e00a-4a62-bb4e-17c8fab587b5",
   "metadata": {},
   "outputs": [],
   "source": []
  }
 ],
 "metadata": {
  "kernelspec": {
   "display_name": "Python 3 (ipykernel)",
   "language": "python",
   "name": "python3"
  },
  "language_info": {
   "codemirror_mode": {
    "name": "ipython",
    "version": 3
   },
   "file_extension": ".py",
   "mimetype": "text/x-python",
   "name": "python",
   "nbconvert_exporter": "python",
   "pygments_lexer": "ipython3",
   "version": "3.13.1"
  }
 },
 "nbformat": 4,
 "nbformat_minor": 5
}
