{
 "cells": [
  {
   "cell_type": "code",
   "execution_count": 42,
   "id": "1b6132b9-b4ca-453c-b1cf-f2d5fc9e4df5",
   "metadata": {},
   "outputs": [],
   "source": [
    "# load input\n",
    "f = open(\"/Users/tolange/Documents/aoc2024/aoc_2/input.txt\")\n",
    "inputs = []\n",
    "for l in f:\n",
    "    ls = l.split()\n",
    "    t = [int(p) for p in ls]\n",
    "    inputs.append(t)"
   ]
  },
  {
   "cell_type": "code",
   "execution_count": 38,
   "id": "f2955c07-b843-48f4-a510-ee97ae0aa81a",
   "metadata": {},
   "outputs": [],
   "source": [
    "# find save\n",
    "def is_save(i):\n",
    "    save = True\n",
    "    globdec = i[0]-i[1] > 0\n",
    "    for jj,j in enumerate(i):\n",
    "        if jj == 0:\n",
    "            continue\n",
    "        save = save and (abs(j - i[jj-1])>=1 and abs(j - i[jj-1])<=3)\n",
    "        if globdec: save = save and (j < i[jj-1])\n",
    "        else: save = save and (j > i[jj-1])\n",
    "    return save\n",
    "\n",
    "#count save\n",
    "def count_save(inputs, dampener = True):\n",
    "    nsave = 0\n",
    "    for i in inputs:\n",
    "        save = is_save(i)\n",
    "        if not save and dampener:\n",
    "            alt_inputs = []\n",
    "            for j in range(len(i)):\n",
    "                temp = []\n",
    "                for ik, k in enumerate(i):\n",
    "                    if j != ik: temp.append(k)\n",
    "                alt_inputs.append(temp)\n",
    "            # can be done faster, i.e stop after the first that works, \n",
    "            # identify broken subparts in lookup table that when repeated break early etc...\n",
    "            # but fast enougth...\n",
    "            save = count_save(alt_inputs, dampener = False) >=1\n",
    "        if save: nsave+=1\n",
    "    return nsave\n",
    "            \n",
    "           "
   ]
  },
  {
   "cell_type": "code",
   "execution_count": 39,
   "id": "bc329df5-d491-4f26-a95b-7174d3800837",
   "metadata": {},
   "outputs": [],
   "source": [
    "testinput = [\n",
    "    [7, 6, 4, 2, 1],\n",
    "    [1, 2, 7, 8, 9],\n",
    "    [9, 7, 6, 2, 1],\n",
    "    [1, 3, 2, 4, 5],\n",
    "    [8, 6, 4, 4, 1],\n",
    "    [1, 3, 6, 7, 9] ]"
   ]
  },
  {
   "cell_type": "code",
   "execution_count": 43,
   "id": "de20bddb-4e7f-46a1-8943-2466225a1758",
   "metadata": {},
   "outputs": [
    {
     "data": {
      "text/plain": [
       "2"
      ]
     },
     "execution_count": 43,
     "metadata": {},
     "output_type": "execute_result"
    }
   ],
   "source": [
    "count_save(testinput, dampener=False)"
   ]
  },
  {
   "cell_type": "code",
   "execution_count": 44,
   "id": "c3968d3e-aa83-41a3-a60f-f49f10606cb2",
   "metadata": {},
   "outputs": [
    {
     "data": {
      "text/plain": [
       "4"
      ]
     },
     "execution_count": 44,
     "metadata": {},
     "output_type": "execute_result"
    }
   ],
   "source": [
    "count_save(testinput)"
   ]
  },
  {
   "cell_type": "code",
   "execution_count": 45,
   "id": "6d5b487e-276f-4237-a610-e7ca93e85f00",
   "metadata": {},
   "outputs": [
    {
     "data": {
      "text/plain": [
       "717"
      ]
     },
     "execution_count": 45,
     "metadata": {},
     "output_type": "execute_result"
    }
   ],
   "source": [
    "count_save(inputs)"
   ]
  }
 ],
 "metadata": {
  "kernelspec": {
   "display_name": "Python 3 (ipykernel)",
   "language": "python",
   "name": "python3"
  },
  "language_info": {
   "codemirror_mode": {
    "name": "ipython",
    "version": 3
   },
   "file_extension": ".py",
   "mimetype": "text/x-python",
   "name": "python",
   "nbconvert_exporter": "python",
   "pygments_lexer": "ipython3",
   "version": "3.12.6"
  }
 },
 "nbformat": 4,
 "nbformat_minor": 5
}
