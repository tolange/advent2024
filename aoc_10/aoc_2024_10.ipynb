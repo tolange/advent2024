{
 "cells": [
  {
   "cell_type": "code",
   "execution_count": 5,
   "id": "8dcfcccb-5bed-48ee-8c80-2a1f615d1543",
   "metadata": {},
   "outputs": [],
   "source": [
    "import numpy as np"
   ]
  },
  {
   "cell_type": "code",
   "execution_count": 2,
   "id": "d1763e39-c75a-4317-8b5d-2949bc729a08",
   "metadata": {},
   "outputs": [],
   "source": [
    "testinput = [\n",
    "\"89010123\",\n",
    "\"78121874\",\n",
    "\"87430965\",\n",
    "\"96549874\",\n",
    "\"45678903\",\n",
    "\"32019012\",\n",
    "\"01329801\",\n",
    "\"10456732\"\n",
    "]"
   ]
  },
  {
   "cell_type": "code",
   "execution_count": 86,
   "id": "b368bea9-5bcd-4712-a36c-a178fcf4b0d5",
   "metadata": {},
   "outputs": [],
   "source": [
    "class Node:\n",
    "    def __init__(self, pos, height, parent, origin, children=[]):\n",
    "        self.pos = pos \n",
    "        self.height = height\n",
    "        self.parent = parent\n",
    "        self.origin = origin\n",
    "        self.children = children\n",
    "    def addChild(self, child): self.children.append(child)\n",
    "    def getOrigin(self): return self.origin\n",
    "    def __eq__(self, other):\n",
    "        return self.pos[0] == other.pos[0] and self.pos[1] == other.pos[1] and self.origin == other.origin\n",
    "    def __hash__(self):\n",
    "        return hash(str(self.pos[0]) + str(self.pos[1]) +str(self.height))\n",
    "\n",
    "def dirOk(p, m, d):\n",
    "    newpos = tuple(np.array(p.pos)+np.array(d))\n",
    "    ok = newpos[0]>=0 and newpos[0] < m.shape[0] and newpos[1]>=0 and newpos[1] < m.shape[1] and m[newpos] == (p.height+1), newpos\n",
    "    return ok\n",
    "    \n",
    "def createChildren(thNode, p, m, trailends, unique=False):\n",
    "     for d in [(1,0), (-1,0), (0, 1), (0, -1)]:\n",
    "         ok, newpos = dirOk(p, m, d)\n",
    "         if ok:\n",
    "             child = Node(newpos, p.height+1, p, thNode)\n",
    "             p.addChild(child)\n",
    "             if child.height <9: createChildren(thNode, child, m, trailends, unique)\n",
    "             elif child.height == 9 and not unique: trailends.add(child)\n",
    "             elif child.height == 9 and unique: trailends.append(child)\n",
    "         \n",
    "def buildTree(trailhead, m, unique=False):\n",
    "    thNode = Node(trailhead, m[trailhead], None, None)\n",
    "    trailends = set()\n",
    "    if unique:\n",
    "        trailends=[]\n",
    "    createChildren(thNode, thNode, m, trailends, unique)\n",
    "    return len(trailends)\n",
    "\n",
    "# make a matrix out of it to work easier with indecies\n",
    "def convertinput(ipt):\n",
    "    ipt_conv = []\n",
    "    for l in ipt:\n",
    "        t = [int(c) for c in l]\n",
    "        ipt_conv.append(t)\n",
    "    return np.array(ipt_conv)\n",
    "\n",
    "def findHeads(m):\n",
    "    heads = []\n",
    "    y, x = [list(l) for l in np.where(m==0)]\n",
    "    return [pos for pos in zip(y, x)]"
   ]
  },
  {
   "cell_type": "code",
   "execution_count": 83,
   "id": "d3da3c81-b6df-465b-8160-d36b65b268c9",
   "metadata": {},
   "outputs": [],
   "source": [
    "def score(m, prt=False, unique=False):\n",
    "    heads = findHeads(m)\n",
    "    scores = 0\n",
    "    for h in heads:\n",
    "        score = buildTree(h, m, unique)\n",
    "        if prt: print(score)\n",
    "        scores+=score\n",
    "    return scores"
   ]
  },
  {
   "cell_type": "code",
   "execution_count": 18,
   "id": "fa1f405a-448e-499b-b337-5273cd03cf62",
   "metadata": {},
   "outputs": [],
   "source": [
    "testinput_conv = convertinput(testinput)"
   ]
  },
  {
   "cell_type": "code",
   "execution_count": 89,
   "id": "f2556593-83e1-4639-b9fb-a50c80f65fbd",
   "metadata": {},
   "outputs": [
    {
     "data": {
      "text/plain": [
       "36"
      ]
     },
     "execution_count": 89,
     "metadata": {},
     "output_type": "execute_result"
    }
   ],
   "source": [
    "score(testinput_conv)"
   ]
  },
  {
   "cell_type": "code",
   "execution_count": 87,
   "id": "4b11425b-7147-4cc2-b373-4d934fe47094",
   "metadata": {},
   "outputs": [
    {
     "data": {
      "text/plain": [
       "81"
      ]
     },
     "execution_count": 87,
     "metadata": {},
     "output_type": "execute_result"
    }
   ],
   "source": [
    "score(testinput_conv, unique=True)"
   ]
  },
  {
   "cell_type": "code",
   "execution_count": 71,
   "id": "c94d7332-cc6a-4960-85f3-cfbceac4348f",
   "metadata": {},
   "outputs": [],
   "source": [
    "ipt = [l.strip(\"\\n\") for l in open(\"input.txt\")]"
   ]
  },
  {
   "cell_type": "code",
   "execution_count": 84,
   "id": "6854a12c-edf3-490e-a041-8674234aa731",
   "metadata": {},
   "outputs": [
    {
     "data": {
      "text/plain": [
       "659"
      ]
     },
     "execution_count": 84,
     "metadata": {},
     "output_type": "execute_result"
    }
   ],
   "source": [
    "score(convertinput(ipt))"
   ]
  },
  {
   "cell_type": "code",
   "execution_count": 77,
   "id": "b2fe6a2e-5511-41ee-bada-33c02359315c",
   "metadata": {},
   "outputs": [
    {
     "data": {
      "text/plain": [
       "1463"
      ]
     },
     "execution_count": 77,
     "metadata": {},
     "output_type": "execute_result"
    }
   ],
   "source": [
    "score(convertinput(ipt), unique=True)"
   ]
  },
  {
   "cell_type": "code",
   "execution_count": null,
   "id": "33451a36-a786-4831-beed-d88be5f1104d",
   "metadata": {},
   "outputs": [],
   "source": []
  }
 ],
 "metadata": {
  "kernelspec": {
   "display_name": "Python 3 (ipykernel)",
   "language": "python",
   "name": "python3"
  },
  "language_info": {
   "codemirror_mode": {
    "name": "ipython",
    "version": 3
   },
   "file_extension": ".py",
   "mimetype": "text/x-python",
   "name": "python",
   "nbconvert_exporter": "python",
   "pygments_lexer": "ipython3",
   "version": "3.12.6"
  }
 },
 "nbformat": 4,
 "nbformat_minor": 5
}
