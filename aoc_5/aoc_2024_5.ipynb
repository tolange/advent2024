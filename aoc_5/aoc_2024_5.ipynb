{
 "cells": [
  {
   "cell_type": "code",
   "execution_count": 153,
   "id": "139ecf5f-624e-4ae1-b428-89cd27a0e165",
   "metadata": {},
   "outputs": [],
   "source": [
    "testinput=[\n",
    "\"47|53\",\n",
    "\"97|13\",\n",
    "\"97|61\",\n",
    "\"97|47\",\n",
    "\"75|29\",\n",
    "\"61|13\",\n",
    "\"75|53\",\n",
    "\"29|13\",\n",
    "\"97|29\",\n",
    "\"53|29\",\n",
    "\"61|53\",\n",
    "\"97|53\",\n",
    "\"61|29\",\n",
    "\"47|13\",\n",
    "\"75|47\",\n",
    "\"97|75\",\n",
    "\"47|61\",\n",
    "\"75|61\",\n",
    "\"47|29\",\n",
    "\"75|13\",\n",
    "\"53|13\",\n",
    "\"75,47,61,53,29\",\n",
    "\"97,61,53,29,13\",\n",
    "\"75,29,13\",\n",
    "\"75,97,47,61,53\",\n",
    "\"61,13,29\",\n",
    "\"97,13,75,29,47\",\n",
    "]"
   ]
  },
  {
   "cell_type": "code",
   "execution_count": 154,
   "id": "c5113114-55aa-4051-a2d4-0d1ed2b14055",
   "metadata": {},
   "outputs": [],
   "source": [
    "def rulesAndPrints(ipt):\n",
    "    rules = []\n",
    "    prints = []\n",
    "    for l in ipt:\n",
    "        if \"|\" not in l and \",\" not in l: continue\n",
    "        if \"|\" in l:\n",
    "            ns = l.split(\"|\")\n",
    "            rules.append([int(n) for n in ns])\n",
    "        else:\n",
    "            ns = l.split(\",\")\n",
    "            prints.append([int(n) for n in ns])\n",
    "    return rules, prints\n",
    "\n",
    "def checkrule(p, rule):\n",
    "    return not(rule[0] in p and rule[1] in p) or (p.index(rule[0])<p.index(rule[1]))\n",
    "    \n",
    "def checkPrint(p, rules):\n",
    "    ok = True\n",
    "    for rule in rules:\n",
    "        ok = checkrule(p, rule)\n",
    "        if not ok: return ok\n",
    "    return ok"
   ]
  },
  {
   "cell_type": "code",
   "execution_count": 162,
   "id": "ee173cec-580b-4167-b4b8-35872cbd1977",
   "metadata": {},
   "outputs": [],
   "source": [
    "testrules, testprint = rulesAndPrints(testinput)"
   ]
  },
  {
   "cell_type": "code",
   "execution_count": 163,
   "id": "dd65b8e1-28af-4f1a-b4f5-c6830fb4feef",
   "metadata": {},
   "outputs": [
    {
     "name": "stdout",
     "output_type": "stream",
     "text": [
      "True\n",
      "True\n",
      "True\n",
      "False\n",
      "False\n",
      "False\n"
     ]
    }
   ],
   "source": [
    "for p in testprint:\n",
    "    print(checkPrint(p, testrules))"
   ]
  },
  {
   "cell_type": "code",
   "execution_count": 160,
   "id": "3f793fcb-e2ef-434d-8b61-14d7308b47e5",
   "metadata": {},
   "outputs": [],
   "source": [
    "def improvePrint(pc, rules):\n",
    "    for rule in rules:\n",
    "        if not checkrule(pc, rule):\n",
    "            idx1 = pc.index(rule[0])\n",
    "            idx2 = pc.index(rule[1])\n",
    "            pc[idx1], pc[idx2] = pc[idx2], pc[idx1]\n",
    "            return pc\n",
    "    return pc"
   ]
  },
  {
   "cell_type": "code",
   "execution_count": 161,
   "id": "b0df3117-f99b-426c-a66f-0fc069673e60",
   "metadata": {},
   "outputs": [],
   "source": [
    "def fixPrints(prints, rules):\n",
    "    newprints = []\n",
    "    for p in prints:\n",
    "        # not in place\n",
    "        pc = p.copy()\n",
    "        while not checkPrint(pc, rules):\n",
    "            pc = improvePrint(pc, rules)\n",
    "        newprints.append(pc)\n",
    "    return newprints"
   ]
  },
  {
   "cell_type": "code",
   "execution_count": 165,
   "id": "f019cfef-8efd-4da2-a052-9afbca50696b",
   "metadata": {},
   "outputs": [],
   "source": [
    "newprints = fixPrints(testprint, testrules)"
   ]
  },
  {
   "cell_type": "code",
   "execution_count": 150,
   "id": "bc16aed9-f9bd-4f8e-8119-9de8810669fa",
   "metadata": {},
   "outputs": [],
   "source": [
    "def countCentral(prints, rules):\n",
    "    out = 0 \n",
    "    for p in prints:\n",
    "        if checkPrint(p, rules):\n",
    "            out += p[int((len(p))/2.)]\n",
    "    return out"
   ]
  },
  {
   "cell_type": "code",
   "execution_count": 166,
   "id": "21cb59e1-bf67-490c-b94d-3701ad85aa55",
   "metadata": {},
   "outputs": [
    {
     "data": {
      "text/plain": [
       "143"
      ]
     },
     "execution_count": 166,
     "metadata": {},
     "output_type": "execute_result"
    }
   ],
   "source": [
    "countCentral(testprint, testrules)"
   ]
  },
  {
   "cell_type": "code",
   "execution_count": 167,
   "id": "54fd5d7c-a1a2-417e-9e09-9696061f575f",
   "metadata": {},
   "outputs": [],
   "source": [
    "# load input\n",
    "f = open('/Users/tolange/Documents/aoc2024/aoc_5/input.txt')\n",
    "inputs = [l.strip(\"\\n\") for l in f]\n",
    "rules, prints = rulesAndPrints(inputs)"
   ]
  },
  {
   "cell_type": "code",
   "execution_count": 168,
   "id": "1f009d87-3f11-4161-95a5-b6c529d3d2e2",
   "metadata": {},
   "outputs": [
    {
     "data": {
      "text/plain": [
       "5091"
      ]
     },
     "execution_count": 168,
     "metadata": {},
     "output_type": "execute_result"
    }
   ],
   "source": [
    "countCentral(prints, rules)"
   ]
  },
  {
   "cell_type": "code",
   "execution_count": 169,
   "id": "50a08958-bacd-4138-8cb7-d281c987a76c",
   "metadata": {},
   "outputs": [],
   "source": [
    "def getBadPrints(prints, rules):\n",
    "    newprints = []\n",
    "    for p in prints:\n",
    "        if not checkPrint(p, rules): \n",
    "            newprints.append(p)\n",
    "    return newprints"
   ]
  },
  {
   "cell_type": "code",
   "execution_count": 170,
   "id": "d48e2c9f-8dee-4b01-a4e7-2f3367ddd8bc",
   "metadata": {},
   "outputs": [],
   "source": [
    "badprints = getBadPrints(prints, rules)"
   ]
  },
  {
   "cell_type": "code",
   "execution_count": 171,
   "id": "a4163f68-3306-4e7e-a706-79cbefd67b82",
   "metadata": {},
   "outputs": [],
   "source": [
    "newprints = fixPrints(badprints, rules)"
   ]
  },
  {
   "cell_type": "code",
   "execution_count": 172,
   "id": "c8ae88b3-9a83-445a-9a22-36896a8bb97c",
   "metadata": {},
   "outputs": [
    {
     "name": "stdout",
     "output_type": "stream",
     "text": [
      "4681\n"
     ]
    }
   ],
   "source": [
    "print(countCentral(newprints, rules))\n"
   ]
  },
  {
   "cell_type": "code",
   "execution_count": null,
   "id": "acb5a085-50a9-4685-a9f6-4c3379106517",
   "metadata": {},
   "outputs": [],
   "source": []
  }
 ],
 "metadata": {
  "kernelspec": {
   "display_name": "Python 3 (ipykernel)",
   "language": "python",
   "name": "python3"
  },
  "language_info": {
   "codemirror_mode": {
    "name": "ipython",
    "version": 3
   },
   "file_extension": ".py",
   "mimetype": "text/x-python",
   "name": "python",
   "nbconvert_exporter": "python",
   "pygments_lexer": "ipython3",
   "version": "3.12.6"
  }
 },
 "nbformat": 4,
 "nbformat_minor": 5
}
