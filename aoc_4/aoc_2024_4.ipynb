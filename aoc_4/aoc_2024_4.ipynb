{
 "cells": [
  {
   "cell_type": "code",
   "execution_count": 11,
   "id": "707e29c5-c896-41c2-aa06-33ba42ce2e9e",
   "metadata": {},
   "outputs": [],
   "source": [
    "import numpy as np\n",
    "import re"
   ]
  },
  {
   "cell_type": "code",
   "execution_count": 3,
   "id": "b31a6765-1099-4457-b82c-25197a932b98",
   "metadata": {},
   "outputs": [],
   "source": [
    "testinput = [\n",
    "\"MMMSXXMASM\",\n",
    "\"MSAMXMSMSA\",\n",
    "\"AMXSXMAAMM\",\n",
    "\"MSAMASMSMX\",\n",
    "\"XMASAMXAMM\",\n",
    "\"XXAMMXXAMA\",\n",
    "\"SMSMSASXSS\",\n",
    "\"SAXAMASAAA\",\n",
    "\"MAMMMXMMMM\",\n",
    "\"MXMXAXMASX\",\n",
    "]"
   ]
  },
  {
   "cell_type": "code",
   "execution_count": 84,
   "id": "eb37bce1-c784-42a2-89f9-d649c71892f0",
   "metadata": {},
   "outputs": [],
   "source": [
    "# make a matrix out of it to work easier with indecies\n",
    "def convertinput(ipt):\n",
    "    ipt_conv = []\n",
    "    for l in ipt:\n",
    "        t = [c for c in l]\n",
    "        ipt_conv.append(t)\n",
    "    return np.array(ipt_conv)"
   ]
  },
  {
   "cell_type": "code",
   "execution_count": 70,
   "id": "9df4ccac-2ea0-48ba-b45c-1395ddb2eb55",
   "metadata": {},
   "outputs": [],
   "source": [
    "testinput_conv = convertinput(testinput)"
   ]
  },
  {
   "cell_type": "code",
   "execution_count": 85,
   "id": "947a2de0-64cd-4ca1-a636-bb37e29bcc79",
   "metadata": {},
   "outputs": [
    {
     "data": {
      "text/plain": [
       "array([['M', 'M', 'M', 'S', 'X', 'X', 'M', 'A', 'S', 'M'],\n",
       "       ['M', 'S', 'A', 'M', 'X', 'M', 'S', 'M', 'S', 'A'],\n",
       "       ['A', 'M', 'X', 'S', 'X', 'M', 'A', 'A', 'M', 'M'],\n",
       "       ['M', 'S', 'A', 'M', 'A', 'S', 'M', 'S', 'M', 'X'],\n",
       "       ['X', 'M', 'A', 'S', 'A', 'M', 'X', 'A', 'M', 'M'],\n",
       "       ['X', 'X', 'A', 'M', 'M', 'X', 'X', 'A', 'M', 'A'],\n",
       "       ['S', 'M', 'S', 'M', 'S', 'A', 'S', 'X', 'S', 'S'],\n",
       "       ['S', 'A', 'X', 'A', 'M', 'A', 'S', 'A', 'A', 'A'],\n",
       "       ['M', 'A', 'M', 'M', 'M', 'X', 'M', 'M', 'M', 'M'],\n",
       "       ['M', 'X', 'M', 'X', 'A', 'X', 'M', 'A', 'S', 'X']], dtype='<U1')"
      ]
     },
     "execution_count": 85,
     "metadata": {},
     "output_type": "execute_result"
    }
   ],
   "source": [
    "testinput_conv"
   ]
  },
  {
   "cell_type": "code",
   "execution_count": 67,
   "id": "e5b37d9b-88ad-4b1a-88cb-eb61ab944575",
   "metadata": {},
   "outputs": [],
   "source": [
    "# read the matrix LR, TB, diagonally and offdiagonally, when searching for XMAS and SAMX we dont need the reverse\n",
    "def getDirections(ipt):\n",
    "    directions = []\n",
    "    x, y = ipt.shape\n",
    "    #LR\n",
    "    fws = []\n",
    "    for i in range(x):\n",
    "        fw = \"\"\n",
    "        for j in range(y):\n",
    "            fw += ipt[i][j]\n",
    "        fws.append(fw)\n",
    "    # TB\n",
    "    sws = []\n",
    "    for j in range(y):\n",
    "        sw = \"\"\n",
    "        for i in range(x):\n",
    "            sw += ipt[i][j]\n",
    "        sws.append(sw)\n",
    "    # diagonal\n",
    "    dgs = []\n",
    "    # and off diagonal, flip for that with numpy\n",
    "    ipt_flip = np.flipud(ipt)\n",
    "    for xt in range(-x, x):\n",
    "        dg = \"\"\n",
    "        for c in np.diag(ipt, k=xt): dg += str(c)\n",
    "        og = \"\"\n",
    "        for c in np.diag(ipt_flip, k=xt): og += str(c) \n",
    "        dgs.append(dg)\n",
    "        dgs.append(og)\n",
    "    return fws + sws + dgs\n",
    "\n",
    "# count XMAS and SAMX occurence\n",
    "def count(inputs):\n",
    "    count = 0\n",
    "    for ip in inputs:\n",
    "        count += len(re.findall(\"XMAS\", ip))\n",
    "        count += len(re.findall(\"SAMX\", ip))\n",
    "    return count\n",
    "            \n",
    "\n"
   ]
  },
  {
   "cell_type": "code",
   "execution_count": 87,
   "id": "e005c77c-1596-443c-b6ca-ebee1badb7a8",
   "metadata": {},
   "outputs": [
    {
     "data": {
      "text/plain": [
       "18"
      ]
     },
     "execution_count": 87,
     "metadata": {},
     "output_type": "execute_result"
    }
   ],
   "source": [
    "# test on testinput\n",
    "count(getDirections(testinput_conv))"
   ]
  },
  {
   "cell_type": "code",
   "execution_count": 88,
   "id": "199b7d6d-fc21-4ece-95e6-e696afecef1f",
   "metadata": {},
   "outputs": [
    {
     "data": {
      "text/plain": [
       "2557"
      ]
     },
     "execution_count": 88,
     "metadata": {},
     "output_type": "execute_result"
    }
   ],
   "source": [
    "# load and convert to matrix real input\n",
    "f = open('/Users/tolange/Documents/aoc2024/aoc_4/input.txt')\n",
    "ipt = [l.strip(\"\\n\") for l in f]\n",
    "ipt = convertinput(ipt)\n",
    "# and count from the different directions\n",
    "count(getDirections(ipt))"
   ]
  },
  {
   "cell_type": "code",
   "execution_count": 81,
   "id": "dc476030-7695-4210-8648-30ab89e5c3f3",
   "metadata": {},
   "outputs": [],
   "source": [
    "\n",
    "def countXMAS(ipt):\n",
    "    x, y = ipt.shape\n",
    "    count = 0\n",
    "    for i in range(x):\n",
    "        for j in range(y):\n",
    "            if ipt[i][j] != 'A': continue\n",
    "            #M . .\n",
    "            #. A .\n",
    "            #. . S\n",
    "            one = ((i-1) >= 0) and ((j-1) >= 0) and (ipt[i-1][j-1] == 'M')\n",
    "            one =  one and ((i+1) < x) and ((j+1) < y) and (ipt[i+1][j+1] == 'S')\n",
    "            #. . S\n",
    "            #. A .\n",
    "            #M . .\n",
    "            two = ((i-1) >= 0) and ((j+1) < y) and (ipt[i-1][j+1] == 'M')\n",
    "            two = two and ((i+1) < x) and ((j-1) >=0) and (ipt[i+1][j-1] == 'S')\n",
    "            #S . .\n",
    "            #. A .\n",
    "            #. . M\n",
    "            three = ((i-1) >= 0) and ((j-1) >= 0) and (ipt[i-1][j-1] == 'S')\n",
    "            three =  three and ((i+1) < x) and ((j+1) < y) and (ipt[i+1][j+1] == 'M')\n",
    "            #. . M\n",
    "            #. A .\n",
    "            #S . .\n",
    "            four = ((i-1) >= 0) and ((j+1) < y) and (ipt[i-1][j+1] == 'S')\n",
    "            four = four and ((i+1) < x) and ((j-1) >=0) and (ipt[i+1][j-1] == 'M')\n",
    "            if (one and two) or (one and four) or (three and two) or (three and four): count+=1\n",
    "    return count"
   ]
  },
  {
   "cell_type": "code",
   "execution_count": 82,
   "id": "67e37f01-af0b-4253-a7eb-d2038e6ef279",
   "metadata": {},
   "outputs": [
    {
     "data": {
      "text/plain": [
       "9"
      ]
     },
     "execution_count": 82,
     "metadata": {},
     "output_type": "execute_result"
    }
   ],
   "source": [
    "countXMAS(testinput_conv)"
   ]
  },
  {
   "cell_type": "code",
   "execution_count": 83,
   "id": "b3f7c0a9-afbb-4570-b0f6-994271b0039d",
   "metadata": {},
   "outputs": [
    {
     "data": {
      "text/plain": [
       "1854"
      ]
     },
     "execution_count": 83,
     "metadata": {},
     "output_type": "execute_result"
    }
   ],
   "source": [
    "countXMAS(ipt)"
   ]
  },
  {
   "cell_type": "code",
   "execution_count": null,
   "id": "383d7cde-21bb-4030-95e1-96bcb4255fa0",
   "metadata": {},
   "outputs": [],
   "source": []
  }
 ],
 "metadata": {
  "kernelspec": {
   "display_name": "Python 3 (ipykernel)",
   "language": "python",
   "name": "python3"
  },
  "language_info": {
   "codemirror_mode": {
    "name": "ipython",
    "version": 3
   },
   "file_extension": ".py",
   "mimetype": "text/x-python",
   "name": "python",
   "nbconvert_exporter": "python",
   "pygments_lexer": "ipython3",
   "version": "3.12.6"
  }
 },
 "nbformat": 4,
 "nbformat_minor": 5
}
