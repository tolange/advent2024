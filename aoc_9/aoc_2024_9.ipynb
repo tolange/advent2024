{
 "cells": [
  {
   "cell_type": "code",
   "execution_count": 1,
   "id": "22d4951b-45fc-4a58-9cd5-f6f11f55bc26",
   "metadata": {},
   "outputs": [],
   "source": [
    "testinput = \"2333133121414131402\""
   ]
  },
  {
   "cell_type": "code",
   "execution_count": 2,
   "id": "299b473d-c41a-4e02-9bc4-7d30967ed432",
   "metadata": {},
   "outputs": [],
   "source": [
    "def convertline(l):\n",
    "    newl = \"\"\n",
    "    buffer = []\n",
    "    ID = 0\n",
    "    for ic, c in enumerate(l):\n",
    "        if ic %2 == 0:\n",
    "            #file\n",
    "            newl += int(c)*\"X\"\n",
    "            buffer += int(c) * [ID]\n",
    "            ID += 1\n",
    "        else:\n",
    "            #space\n",
    "            newl += int(c)*\".\"\n",
    "            buffer += int(c)*[None]\n",
    "    return newl, buffer\n",
    "        "
   ]
  },
  {
   "cell_type": "code",
   "execution_count": 3,
   "id": "9dacb78e-1d76-4f1c-a3d7-fdd67c369f43",
   "metadata": {},
   "outputs": [],
   "source": [
    "def findLastNR(l):\n",
    "    l2 = l.strip('.')\n",
    "    return len(l2) - len(l) - 1\n",
    "\n",
    "def swap(c, i, j):\n",
    "    c = list(c)\n",
    "    c[i], c[j] = c[j], c[i]\n",
    "    return ''.join(c)\n",
    "    \n",
    "def optimizeSpace(l, buffer):\n",
    "    nfree = l.count(\".\")\n",
    "    optimal = l[-nfree:] == nfree*\".\"\n",
    "    if not optimal:\n",
    "        firstfree = l.find('.')\n",
    "        lastNR = findLastNR(l)\n",
    "        l = swap(l, firstfree, lastNR)\n",
    "        buffer[firstfree], buffer[lastNR] = buffer[lastNR], buffer[firstfree]\n",
    "    optimal = l[-nfree:] == nfree*\".\"\n",
    "    return optimal, l, buffer\n",
    "\n",
    "def fulloptimize(l, pr = False):\n",
    "    d, buffer = convertline(l)\n",
    "    optimal = False\n",
    "    while not optimal:\n",
    "        if pr: print(d)\n",
    "        optimal, d, buffer = optimizeSpace(d, buffer)\n",
    "    if pr: print(d)\n",
    "    return d, buffer\n",
    "\n",
    "def checksum(l, buffer):\n",
    "    out = 0\n",
    "    nfree = l.count(\".\")\n",
    "    for ic, c in enumerate(buffer[:-nfree]): out+=(ic*c)\n",
    "    return out\n",
    "    \n",
    "def checksum_old(l):\n",
    "    out = 0\n",
    "    for ic, c in enumerate(l): \n",
    "        if c != \".\": out+=(ic*int(c))\n",
    "    return out\n"
   ]
  },
  {
   "cell_type": "code",
   "execution_count": 4,
   "id": "0a9743cc-e750-476b-8303-27a3c46a0d5d",
   "metadata": {},
   "outputs": [
    {
     "name": "stdout",
     "output_type": "stream",
     "text": [
      "XX...XXX...X...XXX.XX.XXXX.XXXX.XXX.XXXXXX\n",
      "XXX..XXX...X...XXX.XX.XXXX.XXXX.XXX.XXXXX.\n",
      "XXXX.XXX...X...XXX.XX.XXXX.XXXX.XXX.XXXX..\n",
      "XXXXXXXX...X...XXX.XX.XXXX.XXXX.XXX.XXX...\n",
      "XXXXXXXXX..X...XXX.XX.XXXX.XXXX.XXX.XX....\n",
      "XXXXXXXXXX.X...XXX.XX.XXXX.XXXX.XXX.X.....\n",
      "XXXXXXXXXXXX...XXX.XX.XXXX.XXXX.XXX.......\n",
      "XXXXXXXXXXXXX..XXX.XX.XXXX.XXXX.XX........\n",
      "XXXXXXXXXXXXXX.XXX.XX.XXXX.XXXX.X.........\n",
      "XXXXXXXXXXXXXXXXXX.XX.XXXX.XXXX...........\n",
      "XXXXXXXXXXXXXXXXXXXXX.XXXX.XXX............\n",
      "XXXXXXXXXXXXXXXXXXXXXXXXXX.XX.............\n",
      "XXXXXXXXXXXXXXXXXXXXXXXXXXXX..............\n"
     ]
    },
    {
     "data": {
      "text/plain": [
       "1928"
      ]
     },
     "execution_count": 4,
     "metadata": {},
     "output_type": "execute_result"
    }
   ],
   "source": [
    "newtest, buffer = fulloptimize(testinput, True)\n",
    "checksum(newtest,buffer)"
   ]
  },
  {
   "cell_type": "code",
   "execution_count": 5,
   "id": "fdaf052a-32f2-40f9-8e63-6664e4948527",
   "metadata": {},
   "outputs": [],
   "source": [
    "ipt = [l.strip(\"\\n\") for l in open(\"input.txt\")]"
   ]
  },
  {
   "cell_type": "code",
   "execution_count": 6,
   "id": "05519780-ffaf-4960-b635-162f0918a8e6",
   "metadata": {},
   "outputs": [],
   "source": [
    "iptnew, buffer = fulloptimize(ipt[0], False)"
   ]
  },
  {
   "cell_type": "code",
   "execution_count": 7,
   "id": "938ded5f-0315-497d-beb6-2033dda133c0",
   "metadata": {},
   "outputs": [
    {
     "data": {
      "text/plain": [
       "6291146824486"
      ]
     },
     "execution_count": 7,
     "metadata": {},
     "output_type": "execute_result"
    }
   ],
   "source": [
    "checksum(iptnew, buffer)"
   ]
  },
  {
   "cell_type": "code",
   "execution_count": 8,
   "id": "f7a5a440-3010-439f-a11d-277da08888d4",
   "metadata": {},
   "outputs": [],
   "source": [
    "def convertline2(l):\n",
    "    buffer = []\n",
    "    files = []\n",
    "    ID = 0\n",
    "    for ic, c in enumerate(l):\n",
    "        if ic %2 == 0:\n",
    "            #file\n",
    "            buffer += [[ID, int(c)]]\n",
    "            files.append(ID)\n",
    "            ID += 1\n",
    "        else:\n",
    "            #space use ID -1 for space\n",
    "            buffer += [[-1, int(c)]]\n",
    "    return buffer, files"
   ]
  },
  {
   "cell_type": "code",
   "execution_count": 9,
   "id": "7369024d-f530-4109-9675-f469d4b88a7a",
   "metadata": {},
   "outputs": [],
   "source": [
    "buffer, files = convertline2(testinput)"
   ]
  },
  {
   "cell_type": "code",
   "execution_count": 10,
   "id": "fe5ce8ae-bffd-4111-895b-695c8b5ad1f1",
   "metadata": {},
   "outputs": [],
   "source": [
    "def findFile(buffer, ID):\n",
    "    for iF, f in enumerate(buffer):\n",
    "        if f[0]==ID: return iF\n",
    "    return -1\n",
    "def findEmpty(buffer, size):\n",
    "    for iF, f in enumerate(buffer):\n",
    "        if (f[0] == -1) and f[1] >= size: return iF\n",
    "    return -1\n",
    "\n",
    "def printBuffer(buffer):\n",
    "    out = \"\"\n",
    "    for b in buffer:\n",
    "        if b[0] == -1:\n",
    "            out += b[1]*\".\"\n",
    "        else: out+= b[1]*str(b[0])\n",
    "    print(out)\n",
    "\n",
    "def defracFile(buffer, f):\n",
    "    fI = findFile(buffer, f)\n",
    "    fF = buffer[fI]\n",
    "    fS = fF[1]\n",
    "    free = findEmpty(buffer, fS)\n",
    "    if free >= 0 and free<fI:\n",
    "        buffer1 = buffer[:free]\n",
    "        buffer2 = buffer[free+1:fI]\n",
    "        buffer3 = buffer[fI+1:]\n",
    "        #allocate free space at the end of buffer2\n",
    "        fFree = buffer[free]\n",
    "        if len(buffer2) > 0 and buffer2[-1][0]==-1:\n",
    "            buffer2[-1][1]+=fS\n",
    "        else: buffer2 += [[-1, fS]]\n",
    "        # put file at end of  buffer 1\n",
    "        buffer1 += [fF]\n",
    "        # if leftofer free space also put\n",
    "        if fS<fFree[1]:\n",
    "            buffer1 += [[-1,fFree[1]-fS]]\n",
    "        return buffer1 + buffer2 + buffer3\n",
    "    return buffer\n",
    "    \n",
    "def defrac(buffer, files, prt=False):\n",
    "    # reverse order\n",
    "    files = sorted(files, reverse = True)\n",
    "    if prt: printBuffer(buffer)\n",
    "    for f in files:\n",
    "        buffer=defracFile(buffer, f)\n",
    "        if prt: printBuffer(buffer)\n",
    "    return buffer\n",
    "\n",
    "def checksumFileBuffer(buffer):\n",
    "    idx = 0\n",
    "    out = 0\n",
    "    for b in buffer:\n",
    "        for ib in range(b[1]):\n",
    "            if b[0] != -1: out+= idx*b[0]\n",
    "            idx += 1\n",
    "    return out"
   ]
  },
  {
   "cell_type": "code",
   "execution_count": 11,
   "id": "671e1fa7-46ca-4638-a827-7dee3f8968a4",
   "metadata": {},
   "outputs": [],
   "source": [
    "buffer, files = convertline2(testinput)"
   ]
  },
  {
   "cell_type": "code",
   "execution_count": 12,
   "id": "ae8b2b27-cc19-44bb-ad94-043672ae9bd0",
   "metadata": {},
   "outputs": [
    {
     "name": "stdout",
     "output_type": "stream",
     "text": [
      "00...111...2...333.44.5555.6666.777.888899\n",
      "0099.111...2...333.44.5555.6666.777.8888..\n",
      "0099.111...2...333.44.5555.6666.777.8888..\n",
      "0099.1117772...333.44.5555.6666.....8888..\n",
      "0099.1117772...333.44.5555.6666.....8888..\n",
      "0099.1117772...333.44.5555.6666.....8888..\n",
      "0099.111777244.333....5555.6666.....8888..\n",
      "0099.111777244.333....5555.6666.....8888..\n",
      "00992111777.44.333....5555.6666.....8888..\n",
      "00992111777.44.333....5555.6666.....8888..\n",
      "00992111777.44.333....5555.6666.....8888..\n"
     ]
    }
   ],
   "source": [
    "buffer = defrac(buffer, files, True)"
   ]
  },
  {
   "cell_type": "code",
   "execution_count": 13,
   "id": "fafe8de0-6c7a-43aa-9eeb-1685881317e1",
   "metadata": {},
   "outputs": [
    {
     "data": {
      "text/plain": [
       "2858"
      ]
     },
     "execution_count": 13,
     "metadata": {},
     "output_type": "execute_result"
    }
   ],
   "source": [
    "checksumFileBuffer(buffer)"
   ]
  },
  {
   "cell_type": "code",
   "execution_count": 14,
   "id": "c4856a06-1789-43d9-bde9-e07797fa6942",
   "metadata": {},
   "outputs": [],
   "source": [
    "buffer, files = convertline2(ipt[0])"
   ]
  },
  {
   "cell_type": "code",
   "execution_count": 15,
   "id": "544dc442-a845-4554-8723-1c1566921d9a",
   "metadata": {},
   "outputs": [],
   "source": [
    "buffer = defrac(buffer, files)"
   ]
  },
  {
   "cell_type": "code",
   "execution_count": 16,
   "id": "e1e8e704-b3fd-4d8c-ae41-f8fd09aa0413",
   "metadata": {},
   "outputs": [
    {
     "data": {
      "text/plain": [
       "6307279963620"
      ]
     },
     "execution_count": 16,
     "metadata": {},
     "output_type": "execute_result"
    }
   ],
   "source": [
    "checksumFileBuffer(buffer)"
   ]
  },
  {
   "cell_type": "code",
   "execution_count": null,
   "id": "ee528988-d97a-40c8-902b-b9980e2ea554",
   "metadata": {},
   "outputs": [],
   "source": []
  }
 ],
 "metadata": {
  "kernelspec": {
   "display_name": "Python 3 (ipykernel)",
   "language": "python",
   "name": "python3"
  },
  "language_info": {
   "codemirror_mode": {
    "name": "ipython",
    "version": 3
   },
   "file_extension": ".py",
   "mimetype": "text/x-python",
   "name": "python",
   "nbconvert_exporter": "python",
   "pygments_lexer": "ipython3",
   "version": "3.12.6"
  }
 },
 "nbformat": 4,
 "nbformat_minor": 5
}
