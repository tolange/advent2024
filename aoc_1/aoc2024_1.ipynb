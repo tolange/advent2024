{
 "cells": [
  {
   "cell_type": "code",
   "execution_count": 1,
   "id": "72f77cdf-176a-4aec-b50a-253152872993",
   "metadata": {},
   "outputs": [],
   "source": [
    "# Example Lists\n",
    "\n",
    "# 3   4\n",
    "# 4   3\n",
    "# 2   5\n",
    "# 1   3\n",
    "# 3   9\n",
    "# 3   3"
   ]
  },
  {
   "cell_type": "code",
   "execution_count": 2,
   "id": "4d3adfae-d145-4f11-b762-d76c647ad871",
   "metadata": {},
   "outputs": [],
   "source": [
    "ex_1 = [3, 4, 2, 1, 3, 3]\n",
    "ex_2 = [4, 3, 5, 3, 9, 3]"
   ]
  },
  {
   "cell_type": "code",
   "execution_count": 31,
   "id": "08135f18-1a31-4708-9ba4-6c3a7a9f7eab",
   "metadata": {},
   "outputs": [],
   "source": [
    "# pairwise distance of ordered list\n",
    "def compDist(a, b):\n",
    "    pairs = zip( sorted(a), sorted(b))\n",
    "    return sum( [ abs(p[0]-p[1]) for p in pairs ] )"
   ]
  },
  {
   "cell_type": "code",
   "execution_count": 27,
   "id": "bc84a220-482e-46d9-9677-177306340832",
   "metadata": {},
   "outputs": [
    {
     "data": {
      "text/plain": [
       "11"
      ]
     },
     "execution_count": 27,
     "metadata": {},
     "output_type": "execute_result"
    }
   ],
   "source": [
    "compDist(ex_1, ex_2)"
   ]
  },
  {
   "cell_type": "code",
   "execution_count": 28,
   "id": "a46d135c-8351-4860-b5bd-e6e42b5a2de4",
   "metadata": {},
   "outputs": [],
   "source": [
    "# load real input\n",
    "f = open(\"aoc_1/input.txt\")\n",
    "a_r, b_r = [], []\n",
    "for l in f:\n",
    "    ns = l.split()\n",
    "    a_r.append(int(ns[0]))\n",
    "    b_r.append(int(ns[1]))"
   ]
  },
  {
   "cell_type": "code",
   "execution_count": 29,
   "id": "ca46f2aa-9add-49df-abe8-994726eb28a1",
   "metadata": {},
   "outputs": [
    {
     "data": {
      "text/plain": [
       "1889772"
      ]
     },
     "execution_count": 29,
     "metadata": {},
     "output_type": "execute_result"
    }
   ],
   "source": [
    "compDist(a_r, b_r)"
   ]
  },
  {
   "cell_type": "code",
   "execution_count": 32,
   "id": "66320f4e-13d5-461f-8735-f8aadc2314db",
   "metadata": {},
   "outputs": [],
   "source": [
    "# Similarity of list b to a, i.e sum of values in a mutltiplied by their occurence in b\n",
    "def calc_Similarity(a, b):\n",
    "    return sum ([ n*b.count(n) for n in a ])"
   ]
  },
  {
   "cell_type": "code",
   "execution_count": 33,
   "id": "f59879a4-b2d1-4d17-8433-2d59ae8c1204",
   "metadata": {},
   "outputs": [
    {
     "data": {
      "text/plain": [
       "31"
      ]
     },
     "execution_count": 33,
     "metadata": {},
     "output_type": "execute_result"
    }
   ],
   "source": [
    "calc_Similarity(ex_1, ex_2)"
   ]
  },
  {
   "cell_type": "code",
   "execution_count": 34,
   "id": "d10b22e2-59e3-4c43-9e2d-171bd4fcaf6b",
   "metadata": {},
   "outputs": [
    {
     "data": {
      "text/plain": [
       "23228917"
      ]
     },
     "execution_count": 34,
     "metadata": {},
     "output_type": "execute_result"
    }
   ],
   "source": [
    "calc_Similarity(a_r, b_r)"
   ]
  },
  {
   "cell_type": "code",
   "execution_count": null,
   "id": "91e8468e-8038-4578-8e8e-9783273599d8",
   "metadata": {},
   "outputs": [],
   "source": []
  }
 ],
 "metadata": {
  "kernelspec": {
   "display_name": "Python 3 (ipykernel)",
   "language": "python",
   "name": "python3"
  },
  "language_info": {
   "codemirror_mode": {
    "name": "ipython",
    "version": 3
   },
   "file_extension": ".py",
   "mimetype": "text/x-python",
   "name": "python",
   "nbconvert_exporter": "python",
   "pygments_lexer": "ipython3",
   "version": "3.12.6"
  }
 },
 "nbformat": 4,
 "nbformat_minor": 5
}
