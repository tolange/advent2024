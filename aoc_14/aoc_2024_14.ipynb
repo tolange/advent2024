{
 "cells": [
  {
   "cell_type": "code",
   "execution_count": 129,
   "id": "7a6261cc-e306-4472-aa1d-b8a84d9997c8",
   "metadata": {},
   "outputs": [],
   "source": [
    "import numpy as np\n",
    "import time\n",
    "from IPython.display import clear_output"
   ]
  },
  {
   "cell_type": "code",
   "execution_count": 130,
   "id": "5d74f324-d228-4dc6-ada8-8e7d60a87a58",
   "metadata": {},
   "outputs": [],
   "source": [
    "testinput = [\n",
    "\"p=0,4 v=3,-3\",\n",
    "\"p=6,3 v=-1,-3\",\n",
    "\"p=10,3 v=-1,2\",\n",
    "\"p=2,0 v=2,-1\",\n",
    "\"p=0,0 v=1,3\",\n",
    "\"p=3,0 v=-2,-2\",\n",
    "\"p=7,6 v=-1,-3\",\n",
    "\"p=3,0 v=-1,-2\",\n",
    "\"p=9,3 v=2,3\",\n",
    "\"p=7,3 v=-1,2\",\n",
    "\"p=2,4 v=2,-3\",\n",
    "\"p=9,5 v=-3,-3\",\n",
    "]\n",
    "\n",
    "def convertinput(ipt):\n",
    "    out = []\n",
    "    for i in ipt:\n",
    "        out.append([int(j) for j in i.replace(\"p=\",\"\").replace(\" v=\",\",\").split(\",\")])\n",
    "    return out\n"
   ]
  },
  {
   "cell_type": "code",
   "execution_count": 131,
   "id": "7d8ce869-25b3-48ae-8918-c137449949d2",
   "metadata": {},
   "outputs": [
    {
     "data": {
      "text/plain": [
       "[[0, 4, 3, -3],\n",
       " [6, 3, -1, -3],\n",
       " [10, 3, -1, 2],\n",
       " [2, 0, 2, -1],\n",
       " [0, 0, 1, 3],\n",
       " [3, 0, -2, -2],\n",
       " [7, 6, -1, -3],\n",
       " [3, 0, -1, -2],\n",
       " [9, 3, 2, 3],\n",
       " [7, 3, -1, 2],\n",
       " [2, 4, 2, -3],\n",
       " [9, 5, -3, -3]]"
      ]
     },
     "execution_count": 131,
     "metadata": {},
     "output_type": "execute_result"
    }
   ],
   "source": [
    "convertinput(testinput)"
   ]
  },
  {
   "cell_type": "code",
   "execution_count": 132,
   "id": "c8dc9952-20ca-4b9f-a954-c08993687cf5",
   "metadata": {},
   "outputs": [],
   "source": [
    "def evolveRobot(i, t, fx=11, fh=7):\n",
    "    i[0]=(i[0]+t*i[2])%fx\n",
    "    i[1]=(i[1]+t*i[3])%fh \n",
    "    return i\n",
    "\n",
    "def evolveInput(ipt, t, fx=11, fh=7):\n",
    "    for i in range(len(ipt)):\n",
    "        evolveRobot(ipt[i], t, fx, fh)\n",
    "    return ipt\n",
    "\n",
    "def countPerQuadrant(ipt, fx=11, fh=7):\n",
    "    ul, ur, bl, br = 0, 0, 0, 0\n",
    "    for i in ipt:\n",
    "        if i[0] == int(fx/2) or i[1] == int(fh/2): continue\n",
    "        if i[0]< fx/2:\n",
    "            if i[1]<fh/2:ul+=1\n",
    "            else: bl+=1\n",
    "        else:\n",
    "            if i[1]<fh/2:ur+=1\n",
    "            else: br+=1\n",
    "    print(ul, ur,bl, br)\n",
    "    return ul*ur*bl*br"
   ]
  },
  {
   "cell_type": "code",
   "execution_count": 133,
   "id": "95bed98c-81a4-45ec-82e0-074ac0f86c65",
   "metadata": {},
   "outputs": [
    {
     "name": "stdout",
     "output_type": "stream",
     "text": [
      "1 3 4 1\n"
     ]
    },
    {
     "data": {
      "text/plain": [
       "12"
      ]
     },
     "execution_count": 133,
     "metadata": {},
     "output_type": "execute_result"
    }
   ],
   "source": [
    "countPerQuadrant(evolveInput(convertinput(testinput), 100))"
   ]
  },
  {
   "cell_type": "code",
   "execution_count": 134,
   "id": "28ace3c1-80de-42d6-8f80-3802d5710765",
   "metadata": {},
   "outputs": [],
   "source": [
    "ipt = [l.strip(\"\\n\") for l in open(\"input.txt\") ]"
   ]
  },
  {
   "cell_type": "code",
   "execution_count": 135,
   "id": "56fc0511-7885-4678-9e91-bb04383239e4",
   "metadata": {},
   "outputs": [
    {
     "name": "stdout",
     "output_type": "stream",
     "text": [
      "118 128 110 133\n"
     ]
    },
    {
     "data": {
      "text/plain": [
       "220971520"
      ]
     },
     "execution_count": 135,
     "metadata": {},
     "output_type": "execute_result"
    }
   ],
   "source": [
    "countPerQuadrant(evolveInput(convertinput(ipt), 100, 101, 103), 101, 103)"
   ]
  },
  {
   "cell_type": "code",
   "execution_count": 136,
   "id": "3d7664f7-a17e-493b-820b-2910e2eb884b",
   "metadata": {},
   "outputs": [],
   "source": [
    "def vizualize(ipt, fx, fh, thr=None):\n",
    "    m = np.zeros([fh,fx])\n",
    "    for i in ipt:\n",
    "        x, y, vx, vy = i\n",
    "        m[y][x] +=1\n",
    "    maxcont = 0\n",
    "    for y in range(fh):\n",
    "        cont = 0\n",
    "        for x in range(fx):\n",
    "            if m[y][x]>0: cont+=1\n",
    "            else:\n",
    "                if cont > maxcont: maxcont=cont\n",
    "                cont=0\n",
    "        if cont > maxcont: maxcont=cont\n",
    "    if thr:\n",
    "        if maxcont>thr:\n",
    "            return True\n",
    "        return False\n",
    "    plt.pcolor(m)"
   ]
  },
  {
   "cell_type": "code",
   "execution_count": 137,
   "id": "0258fe8d-5589-4243-8f5d-9d87967cbd5b",
   "metadata": {},
   "outputs": [
    {
     "name": "stdout",
     "output_type": "stream",
     "text": [
      "[175, 191, 381, 2235, 3471, 4398, 5634, 5951, 6355]\n"
     ]
    }
   ],
   "source": [
    "longruns = []\n",
    "for i in range(7000):\n",
    "    out= vizualize(evolveInput(convertinput(ipt), i, 101, 103), 101, 103, thr=5)\n",
    "    if out: longruns.append(i)\n",
    "print(longruns)"
   ]
  },
  {
   "cell_type": "code",
   "execution_count": 138,
   "id": "77465f4f-db30-4e77-80a2-97281e8837f6",
   "metadata": {},
   "outputs": [
    {
     "name": "stdout",
     "output_type": "stream",
     "text": [
      "6355\n"
     ]
    },
    {
     "data": {
      "image/png": "[encoded data removed]",
      "text/plain": [
       "<Figure size 640x480 with 1 Axes>"
      ]
     },
     "metadata": {},
     "output_type": "display_data"
    }
   ],
   "source": [
    "for i in longruns:\n",
    "    clear_output(wait=True)\n",
    "    print(i)\n",
    "    vizualize(evolveInput(convertinput(ipt), i, 101, 103), 101, 103, thr=None)\n",
    "    plt.show()\n",
    "    time.sleep(1)"
   ]
  },
  {
   "cell_type": "code",
   "execution_count": 139,
   "id": "742e3f13-de74-4db3-8dc7-b914e17062c1",
   "metadata": {},
   "outputs": [
    {
     "data": {
      "image/png": "[encoded data removed]",
      "text/plain": [
       "<Figure size 640x480 with 1 Axes>"
      ]
     },
     "metadata": {},
     "output_type": "display_data"
    }
   ],
   "source": [
    " vizualize(evolveInput(convertinput(ipt), 6355, 101, 103), 101, 103)"
   ]
  },
  {
   "cell_type": "code",
   "execution_count": null,
   "id": "b592ccc3-f9aa-407e-a192-79874de6f79f",
   "metadata": {},
   "outputs": [],
   "source": []
  }
 ],
 "metadata": {
  "kernelspec": {
   "display_name": "Python 3 (ipykernel)",
   "language": "python",
   "name": "python3"
  },
  "language_info": {
   "codemirror_mode": {
    "name": "ipython",
    "version": 3
   },
   "file_extension": ".py",
   "mimetype": "text/x-python",
   "name": "python",
   "nbconvert_exporter": "python",
   "pygments_lexer": "ipython3",
   "version": "3.13.1"
  }
 },
 "nbformat": 4,
 "nbformat_minor": 5
}
