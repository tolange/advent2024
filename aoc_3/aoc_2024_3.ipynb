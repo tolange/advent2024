{
 "cells": [
  {
   "cell_type": "code",
   "execution_count": 136,
   "id": "282b2d05-cff1-4fcd-bd4b-5ee17ad742b6",
   "metadata": {},
   "outputs": [],
   "source": [
    "import re"
   ]
  },
  {
   "cell_type": "code",
   "execution_count": 149,
   "id": "4c6cb049-5fbf-4dad-8d24-298e1f5ab586",
   "metadata": {},
   "outputs": [],
   "source": [
    "pattern = re.compile(r'mul\\([0-9]+,[0-9]+\\)')"
   ]
  },
  {
   "cell_type": "code",
   "execution_count": 150,
   "id": "34c63223-e8f4-4615-8295-320cd3993bd5",
   "metadata": {},
   "outputs": [
    {
     "name": "stdout",
     "output_type": "stream",
     "text": [
      "173731097\n"
     ]
    }
   ],
   "source": [
    "# load input\n",
    "f = open('/Users/tolange/Documents/aoc2024/aoc_3/input.txt')\n",
    "#put in one line\n",
    "line = \"\"\n",
    "for li in f: line+=li.strip(\"\\n\")\n",
    "# filter out mul statements\n",
    "pairs = [ mul for mul in re.findall(pattern, line)] \n",
    "# translate into numbers\n",
    "nums = [[int(num) for num in re.findall(\"[0-9]+\", ns)] for ns in pairs]\n",
    "# multiply out\n",
    "muls = [num[0]*num[1] for num in  nums]\n",
    "# sum up\n",
    "print(sum(muls))"
   ]
  },
  {
   "cell_type": "code",
   "execution_count": 151,
   "id": "a1404838-6b63-4d29-a060-78209af0ddb8",
   "metadata": {},
   "outputs": [
    {
     "name": "stdout",
     "output_type": "stream",
     "text": [
      "93729253\n"
     ]
    }
   ],
   "source": [
    "# load input\n",
    "f = open('/Users/tolange/Documents/aoc2024/aoc_3/input.txt')\n",
    "#put in one line\n",
    "line = \"\"\n",
    "for li in f: line+=li.strip(\"\\n\")\n",
    "# find all dos and donts\n",
    "alldonts = [i for i in range(len(line)) if line.startswith(\"don't()\", i)] \n",
    "alldos = [i for i in range(len(line)) if line.startswith(\"do()\", i)]\n",
    "# combine\n",
    "doesanddonts = sorted(alldonts+alldos)\n",
    "# split by does and donts\n",
    "splits = {}\n",
    "for ik,k in enumerate(doesanddonts):\n",
    "    if ik == 0:\n",
    "        splits[0] = line[:k]\n",
    "    else:\n",
    "        splits[doesanddonts[ik-1]] = line[doesanddonts[ik-1]:k]\n",
    "    if ik == len(doesanddonts)-1:\n",
    "        splits[doesanddonts[-1]]=line[doesanddonts[-1]:]\n",
    "# find parts enabled by do + automatically enabled part in the beginning\n",
    "goodsplits = {}\n",
    "goodsplits[0] = splits[0]\n",
    "for v in alldos: goodsplits[v]=splits[v]\n",
    "#cmake combine only enabled parts\n",
    "line = \"\"\n",
    "for k in goodsplits: line += goodsplits[k]\n",
    "# run as before:\n",
    "# filter out mul statements\n",
    "pairs = [ mul for mul in re.findall(pattern, line)] \n",
    "# translate into numbers\n",
    "nums = [[int(num) for num in re.findall(\"[0-9]+\", ns)] for ns in pairs]\n",
    "# multiply out\n",
    "muls = [num[0]*num[1] for num in  nums]\n",
    "# sum up\n",
    "print(sum(muls))"
   ]
  },
  {
   "cell_type": "code",
   "execution_count": null,
   "id": "1260488d-8175-4943-9fdf-b5bd0604e3ce",
   "metadata": {},
   "outputs": [],
   "source": []
  }
 ],
 "metadata": {
  "kernelspec": {
   "display_name": "Python 3 (ipykernel)",
   "language": "python",
   "name": "python3"
  },
  "language_info": {
   "codemirror_mode": {
    "name": "ipython",
    "version": 3
   },
   "file_extension": ".py",
   "mimetype": "text/x-python",
   "name": "python",
   "nbconvert_exporter": "python",
   "pygments_lexer": "ipython3",
   "version": "3.12.6"
  }
 },
 "nbformat": 4,
 "nbformat_minor": 5
}
