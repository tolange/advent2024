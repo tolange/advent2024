{
 "cells": [
  {
   "cell_type": "code",
   "execution_count": 1,
   "id": "4d5a8994-ce99-4cdb-93f5-94aa208060b7",
   "metadata": {},
   "outputs": [],
   "source": [
    "# slow solution, brute force + lookup\n",
    "MAP = {}\n",
    "def stringifyStones(st):\n",
    "    out = str(st)\n",
    "    return out\n",
    "    \n",
    "def evolveStone(st, n):\n",
    "    if n == 0: return st\n",
    "    stringStone = stringifyStones(st)\n",
    "    if stringStone in MAP:\n",
    "        return evolveStone(MAP[stringStone], n-1)\n",
    "    newstones = []\n",
    "    for s in st:\n",
    "        if s == 0:\n",
    "            newstones.append(1)\n",
    "        elif len(str(s))%2 == 0:\n",
    "            newstones.append(int(str(s)[:int(len(str(s))/2)]))\n",
    "            newstones.append(int(str(s)[int(len(str(s))/2):]))\n",
    "        else:\n",
    "            newstones.append(s*2024)\n",
    "    MAP[stringStone]=newstones\n",
    "    return evolveStone(newstones, n-1)\n",
    "\n",
    "def evolveStones(st, n):\n",
    "    newstones = 0\n",
    "    for iS, s in enumerate(st):\n",
    "        ns = evolveStone([s], n)\n",
    "        out_t = len(ns)\n",
    "        newstones+=out_t\n",
    "    return newstones\n",
    "            \n",
    "            "
   ]
  },
  {
   "cell_type": "code",
   "execution_count": 2,
   "id": "57d12572-0a41-4a6c-9e97-98d5c595e7c4",
   "metadata": {},
   "outputs": [],
   "source": [
    "newMap = {}\n",
    "def divisible(L):\n",
    "    if L == 1: return True\n",
    "    return (L % 2 == 0) and divisible(L/2)\n",
    "    \n",
    "def evolveStoneEff(st,n):\n",
    "    if n==0: return 1\n",
    "    if st==0:\n",
    "        return evolveStoneEff(1, n-1)\n",
    "    L = len(str(st))\n",
    "    if st not in newMap: newMap[st]={}\n",
    "    elif n in newMap[st]: return newMap[st][n]\n",
    "    out = 0\n",
    "    if divisible(L) and L>1:\n",
    "        if L/(2**n)>=1 and \"0\" not in str(st): # cant deal with zeroes smart atm\n",
    "            out = 2**n\n",
    "        else: # if possible just split in parts directly, sustract iterations that would cost\n",
    "            if \"0\" not in str(st) and int(L/2) > n: # cant deal with zeroes smart atm\n",
    "                st_str= str(st)\n",
    "                for m in [str(i) for i in range(10)]:\n",
    "                    if m in st_str: # do only once per number\n",
    "                        out += st_str.count(m)*evolveStoneEff(int(m), n-int(L/2)) \n",
    "            else: # the hard way...\n",
    "                out = evolveStoneEff(int(str(st)[:int(L/2)]), n-1) + evolveStoneEff(int(str(st)[int(L/2):]), n-1)\n",
    "    elif L % 2 == 0:\n",
    "        out = evolveStoneEff(int(str(st)[:int(L/2)]), n-1) + evolveStoneEff(int(str(st)[int(L/2):]), n-1)\n",
    "    else: out = evolveStoneEff(st*2024,n-1)\n",
    "    newMap[st][n] = out\n",
    "    return out\n",
    "    \n",
    "def evolveStonesEff(st, n):\n",
    "    out = 0\n",
    "    for iS, s in enumerate(st):\n",
    "        out_t = evolveStoneEff(s,n)\n",
    "        out+=out_t\n",
    "    return out        "
   ]
  },
  {
   "cell_type": "code",
   "execution_count": 3,
   "id": "a35168bc-15ec-4b67-b7b1-4ef3e75d4ae4",
   "metadata": {},
   "outputs": [],
   "source": [
    "ipt = [41078, 18, 7, 0, 4785508, 535256, 8154, 447]"
   ]
  },
  {
   "cell_type": "code",
   "execution_count": 4,
   "id": "e4e49625-3a2a-4dbb-9b14-da06bc34ddf8",
   "metadata": {},
   "outputs": [
    {
     "name": "stdout",
     "output_type": "stream",
     "text": [
      "CPU times: user 102 ms, sys: 2.21 ms, total: 104 ms\n",
      "Wall time: 103 ms\n"
     ]
    },
    {
     "data": {
      "text/plain": [
       "217443"
      ]
     },
     "execution_count": 4,
     "metadata": {},
     "output_type": "execute_result"
    }
   ],
   "source": [
    "%%time\n",
    "evolveStones(ipt.copy(), 25)"
   ]
  },
  {
   "cell_type": "code",
   "execution_count": 5,
   "id": "3b10f0dc-41ca-4df1-9f80-582cf73641cf",
   "metadata": {},
   "outputs": [
    {
     "name": "stdout",
     "output_type": "stream",
     "text": [
      "CPU times: user 13.2 ms, sys: 611 μs, total: 13.8 ms\n",
      "Wall time: 13.2 ms\n"
     ]
    },
    {
     "data": {
      "text/plain": [
       "217443"
      ]
     },
     "execution_count": 5,
     "metadata": {},
     "output_type": "execute_result"
    }
   ],
   "source": [
    "%%time\n",
    "evolveStones(ipt.copy(), 25)"
   ]
  },
  {
   "cell_type": "code",
   "execution_count": 6,
   "id": "400e0d21-d1e3-45d6-83e3-9ad8e8c7d26f",
   "metadata": {},
   "outputs": [
    {
     "name": "stdout",
     "output_type": "stream",
     "text": [
      "CPU times: user 3.03 ms, sys: 52 μs, total: 3.08 ms\n",
      "Wall time: 3.12 ms\n"
     ]
    },
    {
     "data": {
      "text/plain": [
       "217443"
      ]
     },
     "execution_count": 6,
     "metadata": {},
     "output_type": "execute_result"
    }
   ],
   "source": [
    "%%time\n",
    "evolveStonesEff(ipt.copy(), 25)"
   ]
  },
  {
   "cell_type": "code",
   "execution_count": 7,
   "id": "82cce5d1-3443-4ff6-814b-582d19d11a3c",
   "metadata": {},
   "outputs": [
    {
     "name": "stdout",
     "output_type": "stream",
     "text": [
      "CPU times: user 10 μs, sys: 0 ns, total: 10 μs\n",
      "Wall time: 11.2 μs\n"
     ]
    },
    {
     "data": {
      "text/plain": [
       "217443"
      ]
     },
     "execution_count": 7,
     "metadata": {},
     "output_type": "execute_result"
    }
   ],
   "source": [
    "%%time\n",
    "evolveStonesEff(ipt.copy(), 25)"
   ]
  },
  {
   "cell_type": "code",
   "execution_count": 8,
   "id": "625ce414-5e04-4427-89f0-4887a1ba3c42",
   "metadata": {},
   "outputs": [
    {
     "name": "stdout",
     "output_type": "stream",
     "text": [
      "CPU times: user 75.4 ms, sys: 15.7 ms, total: 91 ms\n",
      "Wall time: 90.6 ms\n"
     ]
    },
    {
     "data": {
      "text/plain": [
       "257246536026785"
      ]
     },
     "execution_count": 8,
     "metadata": {},
     "output_type": "execute_result"
    }
   ],
   "source": [
    "%%time\n",
    "evolveStonesEff(ipt.copy(), 75)"
   ]
  },
  {
   "cell_type": "code",
   "execution_count": 9,
   "id": "d2bcc9d6-5ede-45bc-b1c5-6a3dc351eafe",
   "metadata": {},
   "outputs": [
    {
     "name": "stdout",
     "output_type": "stream",
     "text": [
      "CPU times: user 6 μs, sys: 1 μs, total: 7 μs\n",
      "Wall time: 6.2 μs\n"
     ]
    },
    {
     "data": {
      "text/plain": [
       "257246536026785"
      ]
     },
     "execution_count": 9,
     "metadata": {},
     "output_type": "execute_result"
    }
   ],
   "source": [
    "%%time\n",
    "evolveStonesEff(ipt.copy(), 75)"
   ]
  },
  {
   "cell_type": "code",
   "execution_count": null,
   "id": "cc1be9bb-1a96-435b-8953-921477da92d8",
   "metadata": {},
   "outputs": [],
   "source": []
  }
 ],
 "metadata": {
  "kernelspec": {
   "display_name": "Python 3 (ipykernel)",
   "language": "python",
   "name": "python3"
  },
  "language_info": {
   "codemirror_mode": {
    "name": "ipython",
    "version": 3
   },
   "file_extension": ".py",
   "mimetype": "text/x-python",
   "name": "python",
   "nbconvert_exporter": "python",
   "pygments_lexer": "ipython3",
   "version": "3.13.1"
  }
 },
 "nbformat": 4,
 "nbformat_minor": 5
}
